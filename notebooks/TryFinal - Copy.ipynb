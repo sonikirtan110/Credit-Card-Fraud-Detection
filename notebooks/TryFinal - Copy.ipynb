{
 "cells": [
  {
   "cell_type": "code",
   "execution_count": null,
   "id": "d05b0df4-9ced-4fb3-ae41-374acaeafe51",
   "metadata": {},
   "outputs": [
    {
     "data": {
      "text/html": [
       "<div>\n",
       "<style scoped>\n",
       "    .dataframe tbody tr th:only-of-type {\n",
       "        vertical-align: middle;\n",
       "    }\n",
       "\n",
       "    .dataframe tbody tr th {\n",
       "        vertical-align: top;\n",
       "    }\n",
       "\n",
       "    .dataframe thead th {\n",
       "        text-align: right;\n",
       "    }\n",
       "</style>\n",
       "<table border=\"1\" class=\"dataframe\">\n",
       "  <thead>\n",
       "    <tr style=\"text-align: right;\">\n",
       "      <th></th>\n",
       "      <th>Unnamed: 0</th>\n",
       "      <th>trans_date_trans_time</th>\n",
       "      <th>cc_num</th>\n",
       "      <th>merchant</th>\n",
       "      <th>category</th>\n",
       "      <th>amt</th>\n",
       "      <th>first</th>\n",
       "      <th>last</th>\n",
       "      <th>gender</th>\n",
       "      <th>street</th>\n",
       "      <th>...</th>\n",
       "      <th>lat</th>\n",
       "      <th>long</th>\n",
       "      <th>city_pop</th>\n",
       "      <th>job</th>\n",
       "      <th>dob</th>\n",
       "      <th>trans_num</th>\n",
       "      <th>unix_time</th>\n",
       "      <th>merch_lat</th>\n",
       "      <th>merch_long</th>\n",
       "      <th>is_fraud</th>\n",
       "    </tr>\n",
       "  </thead>\n",
       "  <tbody>\n",
       "    <tr>\n",
       "      <th>0</th>\n",
       "      <td>0</td>\n",
       "      <td>2019-01-01 00:00:18</td>\n",
       "      <td>2703186189652095</td>\n",
       "      <td>fraud_Rippin, Kub and Mann</td>\n",
       "      <td>misc_net</td>\n",
       "      <td>4.97</td>\n",
       "      <td>Jennifer</td>\n",
       "      <td>Banks</td>\n",
       "      <td>F</td>\n",
       "      <td>561 Perry Cove</td>\n",
       "      <td>...</td>\n",
       "      <td>36.0788</td>\n",
       "      <td>-81.1781</td>\n",
       "      <td>3495</td>\n",
       "      <td>Psychologist, counselling</td>\n",
       "      <td>1988-03-09</td>\n",
       "      <td>0b242abb623afc578575680df30655b9</td>\n",
       "      <td>1325376018</td>\n",
       "      <td>36.011293</td>\n",
       "      <td>-82.048315</td>\n",
       "      <td>0</td>\n",
       "    </tr>\n",
       "    <tr>\n",
       "      <th>1</th>\n",
       "      <td>1</td>\n",
       "      <td>2019-01-01 00:00:44</td>\n",
       "      <td>630423337322</td>\n",
       "      <td>fraud_Heller, Gutmann and Zieme</td>\n",
       "      <td>grocery_pos</td>\n",
       "      <td>107.23</td>\n",
       "      <td>Stephanie</td>\n",
       "      <td>Gill</td>\n",
       "      <td>F</td>\n",
       "      <td>43039 Riley Greens Suite 393</td>\n",
       "      <td>...</td>\n",
       "      <td>48.8878</td>\n",
       "      <td>-118.2105</td>\n",
       "      <td>149</td>\n",
       "      <td>Special educational needs teacher</td>\n",
       "      <td>1978-06-21</td>\n",
       "      <td>1f76529f8574734946361c461b024d99</td>\n",
       "      <td>1325376044</td>\n",
       "      <td>49.159047</td>\n",
       "      <td>-118.186462</td>\n",
       "      <td>0</td>\n",
       "    </tr>\n",
       "    <tr>\n",
       "      <th>2</th>\n",
       "      <td>2</td>\n",
       "      <td>2019-01-01 00:00:51</td>\n",
       "      <td>38859492057661</td>\n",
       "      <td>fraud_Lind-Buckridge</td>\n",
       "      <td>entertainment</td>\n",
       "      <td>220.11</td>\n",
       "      <td>Edward</td>\n",
       "      <td>Sanchez</td>\n",
       "      <td>M</td>\n",
       "      <td>594 White Dale Suite 530</td>\n",
       "      <td>...</td>\n",
       "      <td>42.1808</td>\n",
       "      <td>-112.2620</td>\n",
       "      <td>4154</td>\n",
       "      <td>Nature conservation officer</td>\n",
       "      <td>1962-01-19</td>\n",
       "      <td>a1a22d70485983eac12b5b88dad1cf95</td>\n",
       "      <td>1325376051</td>\n",
       "      <td>43.150704</td>\n",
       "      <td>-112.154481</td>\n",
       "      <td>0</td>\n",
       "    </tr>\n",
       "    <tr>\n",
       "      <th>3</th>\n",
       "      <td>3</td>\n",
       "      <td>2019-01-01 00:01:16</td>\n",
       "      <td>3534093764340240</td>\n",
       "      <td>fraud_Kutch, Hermiston and Farrell</td>\n",
       "      <td>gas_transport</td>\n",
       "      <td>45.00</td>\n",
       "      <td>Jeremy</td>\n",
       "      <td>White</td>\n",
       "      <td>M</td>\n",
       "      <td>9443 Cynthia Court Apt. 038</td>\n",
       "      <td>...</td>\n",
       "      <td>46.2306</td>\n",
       "      <td>-112.1138</td>\n",
       "      <td>1939</td>\n",
       "      <td>Patent attorney</td>\n",
       "      <td>1967-01-12</td>\n",
       "      <td>6b849c168bdad6f867558c3793159a81</td>\n",
       "      <td>1325376076</td>\n",
       "      <td>47.034331</td>\n",
       "      <td>-112.561071</td>\n",
       "      <td>0</td>\n",
       "    </tr>\n",
       "    <tr>\n",
       "      <th>4</th>\n",
       "      <td>4</td>\n",
       "      <td>2019-01-01 00:03:06</td>\n",
       "      <td>375534208663984</td>\n",
       "      <td>fraud_Keeling-Crist</td>\n",
       "      <td>misc_pos</td>\n",
       "      <td>41.96</td>\n",
       "      <td>Tyler</td>\n",
       "      <td>Garcia</td>\n",
       "      <td>M</td>\n",
       "      <td>408 Bradley Rest</td>\n",
       "      <td>...</td>\n",
       "      <td>38.4207</td>\n",
       "      <td>-79.4629</td>\n",
       "      <td>99</td>\n",
       "      <td>Dance movement psychotherapist</td>\n",
       "      <td>1986-03-28</td>\n",
       "      <td>a41d7549acf90789359a9aa5346dcb46</td>\n",
       "      <td>1325376186</td>\n",
       "      <td>38.674999</td>\n",
       "      <td>-78.632459</td>\n",
       "      <td>0</td>\n",
       "    </tr>\n",
       "  </tbody>\n",
       "</table>\n",
       "<p>5 rows × 23 columns</p>\n",
       "</div>"
      ],
      "text/plain": [
       "   Unnamed: 0 trans_date_trans_time            cc_num  \\\n",
       "0           0   2019-01-01 00:00:18  2703186189652095   \n",
       "1           1   2019-01-01 00:00:44      630423337322   \n",
       "2           2   2019-01-01 00:00:51    38859492057661   \n",
       "3           3   2019-01-01 00:01:16  3534093764340240   \n",
       "4           4   2019-01-01 00:03:06   375534208663984   \n",
       "\n",
       "                             merchant       category     amt      first  \\\n",
       "0          fraud_Rippin, Kub and Mann       misc_net    4.97   Jennifer   \n",
       "1     fraud_Heller, Gutmann and Zieme    grocery_pos  107.23  Stephanie   \n",
       "2                fraud_Lind-Buckridge  entertainment  220.11     Edward   \n",
       "3  fraud_Kutch, Hermiston and Farrell  gas_transport   45.00     Jeremy   \n",
       "4                 fraud_Keeling-Crist       misc_pos   41.96      Tyler   \n",
       "\n",
       "      last gender                        street  ...      lat      long  \\\n",
       "0    Banks      F                561 Perry Cove  ...  36.0788  -81.1781   \n",
       "1     Gill      F  43039 Riley Greens Suite 393  ...  48.8878 -118.2105   \n",
       "2  Sanchez      M      594 White Dale Suite 530  ...  42.1808 -112.2620   \n",
       "3    White      M   9443 Cynthia Court Apt. 038  ...  46.2306 -112.1138   \n",
       "4   Garcia      M              408 Bradley Rest  ...  38.4207  -79.4629   \n",
       "\n",
       "   city_pop                                job         dob  \\\n",
       "0      3495          Psychologist, counselling  1988-03-09   \n",
       "1       149  Special educational needs teacher  1978-06-21   \n",
       "2      4154        Nature conservation officer  1962-01-19   \n",
       "3      1939                    Patent attorney  1967-01-12   \n",
       "4        99     Dance movement psychotherapist  1986-03-28   \n",
       "\n",
       "                          trans_num   unix_time  merch_lat  merch_long  \\\n",
       "0  0b242abb623afc578575680df30655b9  1325376018  36.011293  -82.048315   \n",
       "1  1f76529f8574734946361c461b024d99  1325376044  49.159047 -118.186462   \n",
       "2  a1a22d70485983eac12b5b88dad1cf95  1325376051  43.150704 -112.154481   \n",
       "3  6b849c168bdad6f867558c3793159a81  1325376076  47.034331 -112.561071   \n",
       "4  a41d7549acf90789359a9aa5346dcb46  1325376186  38.674999  -78.632459   \n",
       "\n",
       "   is_fraud  \n",
       "0         0  \n",
       "1         0  \n",
       "2         0  \n",
       "3         0  \n",
       "4         0  \n",
       "\n",
       "[5 rows x 23 columns]"
      ]
     },
     "execution_count": 5,
     "metadata": {},
     "output_type": "execute_result"
    }
   ],
   "source": [
    "# Import libraries\n",
    "import pandas as pd\n",
    "import numpy as np\n",
    "import matplotlib.pyplot as plt\n",
    "import seaborn as sns\n",
    "from sklearn.model_selection import train_test_split, GridSearchCV\n",
    "from sklearn.preprocessing import StandardScaler, OneHotEncoder\n",
    "from sklearn.compose import ColumnTransformer\n",
    "from sklearn.ensemble import RandomForestClassifier, GradientBoostingClassifier\n",
    "from sklearn.linear_model import LogisticRegression\n",
    "from sklearn.tree import DecisionTreeClassifier\n",
    "from sklearn.metrics import classification_report, roc_auc_score, confusion_matrix, accuracy_score\n",
    "from imblearn.over_sampling import SMOTE\n",
    "from sklearn.pipeline import Pipeline\n",
    "import joblib\n",
    "\n",
    "# Load the dataset\n",
    "# Replace 'file_path.csv' with your dataset path\n",
    "df = pd.read_csv(\"fraudTrain.csv\")\n",
    "\n",
    "# Preview the dataset\n",
    "df.head()\n"
   ]
  },
  {
   "cell_type": "code",
   "execution_count": null,
   "id": "ca9caa29-12f2-4dce-bfc0-dcc955358eaa",
   "metadata": {},
   "outputs": [
    {
     "name": "stdout",
     "output_type": "stream",
     "text": [
      "is_fraud\n",
      "0    1289169\n",
      "1       7506\n",
      "Name: count, dtype: int64\n",
      "Class imbalance ratio: is_fraud\n",
      "0    0.994211\n",
      "1    0.005789\n",
      "Name: proportion, dtype: float64\n"
     ]
    }
   ],
   "source": [
    "# Problem statement: Identify fraudulent transactions based on available features.\n",
    "\n",
    "# Target variable\n",
    "target = 'is_fraud'\n",
    "\n",
    "# Features (drop irrelevant columns)\n",
    "features = ['amt', 'category', 'city_pop', 'lat', 'long', 'merch_lat', 'merch_long', 'unix_time']\n",
    "\n",
    "# Drop rows where the target variable 'is_fraud' has NaN values\n",
    "df = df.dropna(subset=[target])\n",
    "\n",
    "# Check for NaN values in the features and drop those rows\n",
    "df = df.dropna(subset=features)\n",
    "\n",
    "# Check class imbalance\n",
    "print(df[target].value_counts())\n",
    "\n",
    "# If needed, you can also print out the ratio of the classes\n",
    "print(f\"Class imbalance ratio: {df[target].value_counts(normalize=True)}\")\n"
   ]
  },
  {
   "cell_type": "code",
   "execution_count": null,
   "id": "fa16bb54-4f86-4b29-aad4-e66d5d753286",
   "metadata": {},
   "outputs": [
    {
     "name": "stdout",
     "output_type": "stream",
     "text": [
      "Training set size: 1037340\n",
      "Testing set size: 259335\n"
     ]
    }
   ],
   "source": [
    "# Split the dataset into 80% training and 20% testing\n",
    "X = df[features]\n",
    "y = df[target]\n",
    "\n",
    "X_train, X_test, y_train, y_test = train_test_split(X, y, test_size=0.2, stratify=y, random_state=42)\n",
    "\n",
    "print(f\"Training set size: {X_train.shape[0]}\")\n",
    "print(f\"Testing set size: {X_test.shape[0]}\")\n"
   ]
  },
  {
   "cell_type": "code",
   "execution_count": null,
   "id": "fc712433-4962-497b-a322-dae19a43e00b",
   "metadata": {},
   "outputs": [
    {
     "name": "stdout",
     "output_type": "stream",
     "text": [
      "Resampled training set size: 2062670\n"
     ]
    }
   ],
   "source": [
    "# Preprocessing: Handle categorical and numerical features\n",
    "numerical_features = ['amt', 'city_pop', 'lat', 'long', 'merch_lat', 'merch_long', 'unix_time']\n",
    "categorical_features = ['category']\n",
    "\n",
    "# Create a preprocessing pipeline\n",
    "preprocessor = ColumnTransformer(\n",
    "    transformers=[\n",
    "        ('num', StandardScaler(), numerical_features),\n",
    "        ('cat', OneHotEncoder(handle_unknown='ignore'), categorical_features)\n",
    "    ]\n",
    ")\n",
    "\n",
    "# Apply preprocessing to training data only\n",
    "X_train_preprocessed = preprocessor.fit_transform(X_train)\n",
    "X_test_preprocessed = preprocessor.transform(X_test)\n",
    "\n",
    "# Apply SMOTE for handling class imbalance\n",
    "smote = SMOTE(random_state=42)\n",
    "X_train_resampled, y_train_resampled = smote.fit_resample(X_train_preprocessed, y_train)\n",
    "\n",
    "print(f\"Resampled training set size: {X_train_resampled.shape[0]}\")\n"
   ]
  },
  {
   "cell_type": "code",
   "execution_count": null,
   "id": "40ca58e7-fd2b-42fa-b9a8-89f45dc309c3",
   "metadata": {},
   "outputs": [],
   "source": [
    "from sklearn.linear_model import LogisticRegression\n",
    "from sklearn.tree import DecisionTreeClassifier\n",
    "from sklearn.ensemble import RandomForestClassifier, GradientBoostingClassifier\n",
    "from sklearn.metrics import accuracy_score, roc_auc_score, classification_report\n"
   ]
  },
  {
   "cell_type": "markdown",
   "id": "8bb4d1c2-988b-4584-b4aa-455d2d8aa94a",
   "metadata": {},
   "source": [
    "# Logistic Regression"
   ]
  },
  {
   "cell_type": "code",
   "execution_count": null,
   "id": "e3eb8923-d925-48e0-ae40-b2e46f17e3bd",
   "metadata": {},
   "outputs": [
    {
     "name": "stdout",
     "output_type": "stream",
     "text": [
      "\n",
      "Logistic Regression Classification Report:\n",
      "               precision    recall  f1-score   support\n",
      "\n",
      "           0       1.00      0.89      0.94    257834\n",
      "           1       0.04      0.76      0.07      1501\n",
      "\n",
      "    accuracy                           0.88    259335\n",
      "   macro avg       0.52      0.82      0.50    259335\n",
      "weighted avg       0.99      0.88      0.93    259335\n",
      "\n"
     ]
    }
   ],
   "source": [
    "# Logistic Regression\n",
    "logistic_regression = LogisticRegression(max_iter=1000, class_weight='balanced', random_state=42)\n",
    "\n",
    "# Train the model\n",
    "logistic_regression.fit(X_train_resampled, y_train_resampled)\n",
    "\n",
    "# Evaluate the model\n",
    "y_pred_lr = logistic_regression.predict(X_test_preprocessed)\n",
    "y_proba_lr = logistic_regression.predict_proba(X_test_preprocessed)[:, 1]\n",
    "\n",
    "accuracy_lr = accuracy_score(y_test, y_pred_lr)\n",
    "roc_auc_lr = roc_auc_score(y_test, y_proba_lr)\n",
    "report_lr = classification_report(y_test, y_pred_lr, output_dict=True)\n",
    "\n",
    "# Print results\n",
    "print(\"\\nLogistic Regression Classification Report:\\n\", classification_report(y_test, y_pred_lr))\n",
    "\n",
    "# Check the labels dynamically (in case they're different)\n",
    "positive_class = [key for key in report_lr.keys() if key not in ['accuracy', 'macro avg', 'weighted avg']][0]\n",
    "\n",
    "results_lr = {\n",
    "    'Model': 'Logistic Regression',\n",
    "    'Accuracy': accuracy_lr,\n",
    "    'ROC-AUC': roc_auc_lr,\n",
    "    'Precision': report_lr[positive_class]['precision'],\n",
    "    'Recall': report_lr[positive_class]['recall'],\n",
    "    'F1-Score': report_lr[positive_class]['f1-score']\n",
    "}\n"
   ]
  },
  {
   "cell_type": "markdown",
   "id": "03ea4dd0-75a5-4517-95f3-e644be180b2c",
   "metadata": {},
   "source": [
    "# Decision Tree"
   ]
  },
  {
   "cell_type": "code",
   "execution_count": null,
   "id": "11f7c0f7-ddd2-4826-8846-dc8e7d244f43",
   "metadata": {},
   "outputs": [
    {
     "name": "stdout",
     "output_type": "stream",
     "text": [
      "\n",
      "Decision Tree Classification Report:\n",
      "               precision    recall  f1-score   support\n",
      "\n",
      "           0       1.00      0.99      1.00    257834\n",
      "           1       0.40      0.77      0.53      1501\n",
      "\n",
      "    accuracy                           0.99    259335\n",
      "   macro avg       0.70      0.88      0.76    259335\n",
      "weighted avg       1.00      0.99      0.99    259335\n",
      "\n"
     ]
    }
   ],
   "source": [
    "# Decision Tree\n",
    "decision_tree = DecisionTreeClassifier(class_weight='balanced', random_state=42)\n",
    "\n",
    "# Train the model\n",
    "decision_tree.fit(X_train_resampled, y_train_resampled)\n",
    "\n",
    "# Evaluate the model\n",
    "y_pred_dt = decision_tree.predict(X_test_preprocessed)\n",
    "\n",
    "accuracy_dt = accuracy_score(y_test, y_pred_dt)\n",
    "roc_auc_dt = None  # Decision trees typically don't have a `predict_proba` method unless it's enabled\n",
    "report_dt = classification_report(y_test, y_pred_dt, output_dict=True)\n",
    "\n",
    "# Print results\n",
    "print(\"\\nDecision Tree Classification Report:\\n\", classification_report(y_test, y_pred_dt))\n",
    "\n",
    "# Check the labels dynamically (in case they're different)\n",
    "positive_class_dt = [key for key in report_dt.keys() if key not in ['accuracy', 'macro avg', 'weighted avg']][0]\n",
    "\n",
    "results_dt = {\n",
    "    'Model': 'Decision Tree',\n",
    "    'Accuracy': accuracy_dt,\n",
    "    'ROC-AUC': roc_auc_dt,\n",
    "    'Precision': report_dt[positive_class_dt]['precision'],\n",
    "    'Recall': report_dt[positive_class_dt]['recall'],\n",
    "    'F1-Score': report_dt[positive_class_dt]['f1-score']\n",
    "}"
   ]
  },
  {
   "cell_type": "markdown",
   "id": "4c65dd93-3d37-479d-86bf-55fb646c980c",
   "metadata": {},
   "source": [
    "# Random Forest"
   ]
  },
  {
   "cell_type": "code",
   "execution_count": null,
   "id": "54ad0b91-ff2d-4927-830e-43e80f31be80",
   "metadata": {},
   "outputs": [
    {
     "name": "stdout",
     "output_type": "stream",
     "text": [
      "\n",
      "Random Forest Classification Report:\n",
      "               precision    recall  f1-score   support\n",
      "\n",
      "           0       1.00      1.00      1.00    257834\n",
      "           1       0.60      0.82      0.70      1501\n",
      "\n",
      "    accuracy                           1.00    259335\n",
      "   macro avg       0.80      0.91      0.85    259335\n",
      "weighted avg       1.00      1.00      1.00    259335\n",
      "\n"
     ]
    }
   ],
   "source": [
    "# Random Forest\n",
    "random_forest = RandomForestClassifier(class_weight='balanced', random_state=42)\n",
    "\n",
    "# Train the model\n",
    "random_forest.fit(X_train_resampled, y_train_resampled)\n",
    "\n",
    "# Evaluate the model\n",
    "y_pred_rf = random_forest.predict(X_test_preprocessed)\n",
    "y_proba_rf = random_forest.predict_proba(X_test_preprocessed)[:, 1]\n",
    "\n",
    "accuracy_rf = accuracy_score(y_test, y_pred_rf)\n",
    "roc_auc_rf = roc_auc_score(y_test, y_proba_rf)\n",
    "report_rf = classification_report(y_test, y_pred_rf, output_dict=True)\n",
    "\n",
    "# Print results\n",
    "print(\"\\nRandom Forest Classification Report:\\n\", classification_report(y_test, y_pred_rf))\n",
    "\n",
    "# Check the labels dynamically (in case they're different)\n",
    "positive_class_rf = [key for key in report_rf.keys() if key not in ['accuracy', 'macro avg', 'weighted avg']][0]\n",
    "\n",
    "results_rf = {\n",
    "    'Model': 'Random Forest',\n",
    "    'Accuracy': accuracy_rf,\n",
    "    'ROC-AUC': roc_auc_rf,\n",
    "    'Precision': report_rf[positive_class_rf]['precision'],\n",
    "    'Recall': report_rf[positive_class_rf]['recall'],\n",
    "    'F1-Score': report_rf[positive_class_rf]['f1-score']\n",
    "}\n",
    "\n"
   ]
  },
  {
   "cell_type": "markdown",
   "id": "67dcf66f-3ae0-4cb2-9491-27327ec6ef06",
   "metadata": {},
   "source": [
    "# Gradient Boosting"
   ]
  },
  {
   "cell_type": "code",
   "execution_count": null,
   "id": "99b31110-c2fc-423f-a9e7-1d00fc1acd80",
   "metadata": {},
   "outputs": [
    {
     "name": "stdout",
     "output_type": "stream",
     "text": [
      "\n",
      "Gradient Boosting Classification Report:\n",
      "               precision    recall  f1-score   support\n",
      "\n",
      "           0       1.00      0.96      0.98    257834\n",
      "           1       0.13      0.92      0.23      1501\n",
      "\n",
      "    accuracy                           0.96    259335\n",
      "   macro avg       0.56      0.94      0.60    259335\n",
      "weighted avg       0.99      0.96      0.98    259335\n",
      "\n"
     ]
    }
   ],
   "source": [
    "# Gradient Boosting\n",
    "gradient_boosting = GradientBoostingClassifier(random_state=42)\n",
    "\n",
    "# Train the model\n",
    "gradient_boosting.fit(X_train_resampled, y_train_resampled)\n",
    "\n",
    "# Evaluate the model\n",
    "y_pred_gb = gradient_boosting.predict(X_test_preprocessed)\n",
    "y_proba_gb = gradient_boosting.predict_proba(X_test_preprocessed)[:, 1]\n",
    "\n",
    "accuracy_gb = accuracy_score(y_test, y_pred_gb)\n",
    "roc_auc_gb = roc_auc_score(y_test, y_proba_gb)\n",
    "report_gb = classification_report(y_test, y_pred_gb, output_dict=True)\n",
    "\n",
    "# Print results\n",
    "print(\"\\nGradient Boosting Classification Report:\\n\", classification_report(y_test, y_pred_gb))\n",
    "\n",
    "# Check the labels dynamically (in case they're different)\n",
    "positive_class_gb = [key for key in report_gb.keys() if key not in ['accuracy', 'macro avg', 'weighted avg']][0]\n",
    "\n",
    "results_gb = {\n",
    "    'Model': 'Gradient Boosting',\n",
    "    'Accuracy': accuracy_gb,\n",
    "    'ROC-AUC': roc_auc_gb,\n",
    "    'Precision': report_gb[positive_class_gb]['precision'],\n",
    "    'Recall': report_gb[positive_class_gb]['recall'],\n",
    "    'F1-Score': report_gb[positive_class_gb]['f1-score']\n",
    "}\n",
    "\n"
   ]
  },
  {
   "cell_type": "markdown",
   "id": "1de3396a",
   "metadata": {},
   "source": [
    "# Support Vector Machine (SVM)"
   ]
  },
  {
   "cell_type": "code",
   "execution_count": null,
   "id": "8e79700c",
   "metadata": {},
   "outputs": [],
   "source": [
    "from sklearn.svm import SVC\n",
    "\n",
    "svm = SVC(probability=True, random_state=42)\n",
    "svm.fit(X_train_resampled, y_train_resampled)\n",
    "\n",
    "# Evaluate SVM\n",
    "y_pred_svm = svm.predict(X_test_preprocessed)\n",
    "y_proba_svm = svm.predict_proba(X_test_preprocessed)[:, 1]\n",
    "\n",
    "accuracy_svm = accuracy_score(y_test, y_pred_svm)\n",
    "roc_auc_svm = roc_auc_score(y_test, y_proba_svm)\n",
    "report_svm = classification_report(y_test, y_pred_svm, output_dict=True)\n",
    "\n",
    "# Dynamically get positive class label (assumes binary classification)\n",
    "positive_class_svm = [key for key in report_svm.keys() if key not in ['accuracy', 'macro avg', 'weighted avg']][0]\n",
    "\n",
    "results_svm = {\n",
    "    'Model': 'Support Vector Machine',\n",
    "    'Accuracy': accuracy_svm,\n",
    "    'ROC-AUC': roc_auc_svm,\n",
    "    'Precision': report_svm[positive_class_svm]['precision'],\n",
    "    'Recall': report_svm[positive_class_svm]['recall'],\n",
    "    'F1-Score': report_svm[positive_class_svm]['f1-score']\n",
    "}"
   ]
  },
  {
   "cell_type": "markdown",
   "id": "e917671d",
   "metadata": {},
   "source": [
    "# Bayesian Classifier (Naive Bayes)"
   ]
  },
  {
   "cell_type": "code",
   "execution_count": null,
   "id": "b879a41e",
   "metadata": {},
   "outputs": [],
   "source": [
    "from sklearn.naive_bayes import GaussianNB\n",
    "\n",
    "gnb = GaussianNB()\n",
    "gnb.fit(X_train_resampled, y_train_resampled)\n",
    "\n",
    "# Evaluate Gaussian Naive Bayes\n",
    "y_pred_gnb = gnb.predict(X_test_preprocessed)\n",
    "y_proba_gnb = gnb.predict_proba(X_test_preprocessed)[:, 1]\n",
    "\n",
    "accuracy_gnb = accuracy_score(y_test, y_pred_gnb)\n",
    "roc_auc_gnb = roc_auc_score(y_test, y_proba_gnb)\n",
    "report_gnb = classification_report(y_test, y_pred_gnb, output_dict=True)\n",
    "\n",
    "positive_class_gnb = [key for key in report_gnb.keys() if key not in ['accuracy', 'macro avg', 'weighted avg']][0]\n",
    "\n",
    "results_gnb = {\n",
    "    'Model': 'Gaussian Naive Bayes',\n",
    "    'Accuracy': accuracy_gnb,\n",
    "    'ROC-AUC': roc_auc_gnb,\n",
    "    'Precision': report_gnb[positive_class_gnb]['precision'],\n",
    "    'Recall': report_gnb[positive_class_gnb]['recall'],\n",
    "    'F1-Score': report_gnb[positive_class_gnb]['f1-score']\n",
    "}\n"
   ]
  },
  {
   "cell_type": "markdown",
   "id": "70912f59",
   "metadata": {},
   "source": [
    " # Hidden Markov Model (HMM) for Classification"
   ]
  },
  {
   "cell_type": "code",
   "execution_count": null,
   "id": "f43e79e2",
   "metadata": {},
   "outputs": [],
   "source": [
    "from hmmlearn.hmm import GaussianHMM\n",
    "\n",
    "# Split training data by class label (assumes binary classification with labels 0 and 1)\n",
    "X_train_class0 = X_train_resampled[y_train_resampled == 0]\n",
    "X_train_class1 = X_train_resampled[y_train_resampled == 1]\n",
    "\n",
    "# For demonstration, we assume each sample is treated as a sequence of length 1.\n",
    "# Fit one HMM per class. Adjust n_components based on your data.\n",
    "hmm0 = GaussianHMM(n_components=3, covariance_type=\"diag\", random_state=42)\n",
    "hmm1 = GaussianHMM(n_components=3, covariance_type=\"diag\", random_state=42)\n",
    "\n",
    "# Fit the HMMs (each expects a 2D array; if your sample is a single observation, reshape it)\n",
    "hmm0.fit(X_train_class0)\n",
    "hmm1.fit(X_train_class1)\n",
    "\n",
    "def predict_hmm(sample):\n",
    "    # Ensure sample is 2D: (n_timesteps, n_features)\n",
    "    if sample.ndim == 1:\n",
    "        sample = sample.reshape(1, -1)\n",
    "    score0 = hmm0.score(sample)\n",
    "    score1 = hmm1.score(sample)\n",
    "    return 0 if score0 > score1 else 1\n",
    "\n",
    "# Predict on test data\n",
    "# This loop treats each test sample as a separate sequence.\n",
    "y_pred_hmm = np.array([predict_hmm(sample) for sample in X_test_preprocessed])\n",
    "\n",
    "accuracy_hmm = accuracy_score(y_test, y_pred_hmm)\n",
    "# HMM does not directly produce probability estimates, so we skip ROC-AUC here.\n",
    "report_hmm = classification_report(y_test, y_pred_hmm, output_dict=True)\n",
    "positive_class_hmm = [key for key in report_hmm.keys() if key not in ['accuracy', 'macro avg', 'weighted avg']][0]\n",
    "\n",
    "results_hmm = {\n",
    "    'Model': 'Hidden Markov Model',\n",
    "    'Accuracy': accuracy_hmm,\n",
    "    'ROC-AUC': None,  # Not applicable\n",
    "    'Precision': report_hmm[positive_class_hmm]['precision'],\n",
    "    'Recall': report_hmm[positive_class_hmm]['recall'],\n",
    "    'F1-Score': report_hmm[positive_class_hmm]['f1-score']\n",
    "}"
   ]
  },
  {
   "cell_type": "markdown",
   "id": "b93d54e5",
   "metadata": {},
   "source": [
    "# K-Nearest Neighbour (KNN)"
   ]
  },
  {
   "cell_type": "code",
   "execution_count": null,
   "id": "56fc9eb2",
   "metadata": {},
   "outputs": [],
   "source": [
    "from sklearn.neighbors import KNeighborsClassifier\n",
    "\n",
    "knn = KNeighborsClassifier(n_neighbors=5)\n",
    "knn.fit(X_train_resampled, y_train_resampled)\n",
    "\n",
    "# Evaluate KNN\n",
    "y_pred_knn = knn.predict(X_test_preprocessed)\n",
    "# predict_proba is available for KNN\n",
    "y_proba_knn = knn.predict_proba(X_test_preprocessed)[:, 1]\n",
    "\n",
    "accuracy_knn = accuracy_score(y_test, y_pred_knn)\n",
    "roc_auc_knn = roc_auc_score(y_test, y_proba_knn)\n",
    "report_knn = classification_report(y_test, y_pred_knn, output_dict=True)\n",
    "\n",
    "positive_class_knn = [key for key in report_knn.keys() if key not in ['accuracy', 'macro avg', 'weighted avg']][0]\n",
    "\n",
    "results_knn = {\n",
    "    'Model': 'K-Nearest Neighbour',\n",
    "    'Accuracy': accuracy_knn,\n",
    "    'ROC-AUC': roc_auc_knn,\n",
    "    'Precision': report_knn[positive_class_knn]['precision'],\n",
    "    'Recall': report_knn[positive_class_knn]['recall'],\n",
    "    'F1-Score': report_knn[positive_class_knn]['f1-score']\n",
    "}"
   ]
  },
  {
   "cell_type": "code",
   "execution_count": null,
   "id": "22d2766f-8f12-4d28-8254-86e00263f05e",
   "metadata": {},
   "outputs": [
    {
     "name": "stdout",
     "output_type": "stream",
     "text": [
      "                 Model  Accuracy   ROC-AUC  Precision    Recall  F1-Score\n",
      "0  Logistic Regression  0.884586  0.905845   0.998395  0.885337  0.938473\n",
      "1        Decision Tree  0.992033       NaN   0.998678  0.993302  0.995983\n",
      "2        Random Forest  0.995847  0.987962   0.998955  0.996866  0.997909\n",
      "3    Gradient Boosting  0.963792  0.989012   0.999509  0.964054  0.981462\n"
     ]
    }
   ],
   "source": [
    "# Combine all results into a list\n",
    "results = [results_lr, results_dt, results_rf, results_gb,results_svm,results_gnb,results_hmm,results_knn]\n",
    "\n",
    "# Convert results into a DataFrame for easier comparison (optional)\n",
    "import pandas as pd\n",
    "results_df = pd.DataFrame(results)\n",
    "print(results_df)\n"
   ]
  },
  {
   "cell_type": "code",
   "execution_count": 15,
   "id": "e1244e4a-39c0-4497-8c62-48bbe20198f3",
   "metadata": {},
   "outputs": [
    {
     "name": "stdout",
     "output_type": "stream",
     "text": [
      "\n",
      "Model Performance Comparison:\n",
      "                  Model  Accuracy   ROC-AUC  Precision    Recall  F1-Score\n",
      "0  Logistic Regression  0.884586  0.905845   0.998395  0.885337  0.938473\n",
      "1        Decision Tree  0.992033       NaN   0.998678  0.993302  0.995983\n",
      "2        Random Forest  0.995847  0.987962   0.998955  0.996866  0.997909\n",
      "3    Gradient Boosting  0.963792  0.989012   0.999509  0.964054  0.981462\n",
      "\n",
      "Best Model:\n",
      " Model        Random Forest\n",
      "Accuracy          0.995847\n",
      "ROC-AUC           0.987962\n",
      "Precision         0.998955\n",
      "Recall            0.996866\n",
      "F1-Score          0.997909\n",
      "Name: 2, dtype: object\n"
     ]
    }
   ],
   "source": [
    "# Convert results to DataFrame for comparison\n",
    "results_df = pd.DataFrame(results)\n",
    "\n",
    "# Sort models by F1-Score and Accuracy\n",
    "best_model = results_df.sort_values(by=['F1-Score', 'Accuracy'], ascending=False).iloc[0]\n",
    "print(\"\\nModel Performance Comparison:\\n\", results_df)\n",
    "print(\"\\nBest Model:\\n\", best_model)\n"
   ]
  },
  {
   "cell_type": "code",
   "execution_count": 16,
   "id": "10c7cf6b-54fd-4ea2-8edd-b0ed800c3d82",
   "metadata": {},
   "outputs": [
    {
     "data": {
      "image/png": "[encoded data removed]",
      "text/plain": [
       "<Figure size 1000x600 with 1 Axes>"
      ]
     },
     "metadata": {},
     "output_type": "display_data"
    }
   ],
   "source": [
    "import pandas as pd\n",
    "import matplotlib.pyplot as plt\n",
    "\n",
    "# Data from Model Performance Comparison\n",
    "data = {\n",
    "    \"Model\": [\"Logistic Regression\", \"Decision Tree\", \"Random Forest\", \"Gradient Boosting\"],\n",
    "    \"Accuracy\": [0.884586, 0.992033, 0.995847, 0.963792],\n",
    "}\n",
    "\n",
    "# Convert to DataFrame\n",
    "results_df = pd.DataFrame(data)\n",
    "\n",
    "# Plot bar chart for Accuracy\n",
    "plt.figure(figsize=(10, 6))\n",
    "plt.bar(results_df[\"Model\"], results_df[\"Accuracy\"], color=['blue', 'green', 'orange', 'red'])\n",
    "\n",
    "# Add labels and title\n",
    "plt.xlabel(\"Model\", fontsize=12)\n",
    "plt.ylabel(\"Accuracy\", fontsize=12)\n",
    "plt.title(\"Model Accuracy Comparison\", fontsize=14)\n",
    "plt.xticks(rotation=45, ha='right')  # Rotate x-axis labels for better readability\n",
    "\n",
    "# Add accuracy values on top of bars\n",
    "for index, value in enumerate(results_df[\"Accuracy\"]):\n",
    "    plt.text(index, value, f\"{value:.4f}\", ha='center', va='bottom', fontsize=10)\n",
    "\n",
    "# Display the plot\n",
    "plt.tight_layout()\n",
    "plt.show()\n"
   ]
  },
  {
   "cell_type": "code",
   "execution_count": 17,
   "id": "33a18a6f-3b84-4d75-8063-cb4662db09e1",
   "metadata": {},
   "outputs": [
    {
     "name": "stdout",
     "output_type": "stream",
     "text": [
      "Index(['amt', 'category', 'city_pop', 'lat', 'long', 'merch_lat', 'merch_long',\n",
      "       'unix_time'],\n",
      "      dtype='object')\n"
     ]
    }
   ],
   "source": [
    "print(X_train.columns)"
   ]
  },
  {
   "cell_type": "code",
   "execution_count": 18,
   "id": "0657bd75-4a93-4d58-9cd2-7f0ca3e35c69",
   "metadata": {},
   "outputs": [
    {
     "name": "stdout",
     "output_type": "stream",
     "text": [
      "Pipeline saved successfully!\n",
      "F1 Score: 0.7330115113256591\n"
     ]
    }
   ],
   "source": [
    "import joblib\n",
    "from sklearn.ensemble import RandomForestClassifier\n",
    "from sklearn.metrics import f1_score\n",
    "from sklearn.preprocessing import OneHotEncoder\n",
    "from sklearn.compose import ColumnTransformer\n",
    "from sklearn.pipeline import Pipeline\n",
    "from sklearn.impute import SimpleImputer\n",
    "from sklearn.preprocessing import StandardScaler\n",
    "\n",
    "# Define available categorical and numerical features based on the dataset\n",
    "categorical_features = ['category']  # 'merchant' and 'gender' are missing in this dataset\n",
    "numerical_features = ['amt', 'city_pop', 'lat', 'long', 'merch_lat', 'merch_long', 'unix_time']\n",
    "\n",
    "# Preprocessing for numerical and categorical features\n",
    "preprocessor = ColumnTransformer(\n",
    "    transformers=[\n",
    "        ('num', Pipeline(steps=[\n",
    "            ('imputer', SimpleImputer(strategy='mean')),  # Handle missing values for numerical data\n",
    "            ('scaler', StandardScaler())                 # Standardize numerical features\n",
    "        ]), numerical_features),\n",
    "        ('cat', Pipeline(steps=[\n",
    "            ('imputer', SimpleImputer(strategy='most_frequent')),  # Handle missing values for categorical data\n",
    "            ('onehot', OneHotEncoder(drop='first', sparse_output=False))  # One-hot encode categorical features\n",
    "        ]), categorical_features)\n",
    "    ]\n",
    ")\n",
    "\n",
    "# Example of models dictionary (replace it with actual models)\n",
    "models = {\n",
    "    'RandomForestClassifier': RandomForestClassifier(\n",
    "        n_estimators=200,  # Manually set value\n",
    "        max_depth=20,      # Manually set value\n",
    "        min_samples_split=5,  # Manually set value\n",
    "        random_state=42\n",
    "    ),\n",
    "    # Add other model names and instances here if needed\n",
    "}\n",
    "\n",
    "# Assuming best_model is a dictionary containing the best model's name\n",
    "best_model_name = best_model['Model']\n",
    "\n",
    "# Check and use the model from the models dictionary\n",
    "if best_model_name == \"RandomForestClassifier\":\n",
    "    model = models['RandomForestClassifier']  # Use pre-defined RandomForestClassifier model\n",
    "else:\n",
    "    model = models.get(best_model_name, RandomForestClassifier())  # Default to RandomForest if model not found\n",
    "\n",
    "# Create a pipeline with preprocessing and model\n",
    "pipeline = Pipeline(steps=[\n",
    "    ('preprocessor', preprocessor),\n",
    "    ('classifier', model)\n",
    "])\n",
    "\n",
    "# Train the pipeline\n",
    "pipeline.fit(X_train, y_train)\n",
    "\n",
    "# Save the trained model\n",
    "joblib.dump(pipeline, \"best_fraud_detection_pipeline.pkl\")\n",
    "print(\"Pipeline saved successfully!\")\n",
    "\n",
    "# Evaluate the model (optional)\n",
    "y_pred = pipeline.predict(X_test)\n",
    "print(\"F1 Score:\", f1_score(y_test, y_pred))\n"
   ]
  },
  {
   "cell_type": "code",
   "execution_count": 19,
   "id": "8a0989c1-7386-4dc2-9aaa-873d7a0310d3",
   "metadata": {},
   "outputs": [],
   "source": [
    "from sklearn.model_selection import train_test_split\n",
    "\n",
    "# Assuming your dataframe is named `df` and the target column is 'is_fraud'\n",
    "X = df.drop(columns=['is_fraud'])\n",
    "y = df['is_fraud']\n",
    "\n",
    "# Split data into training and test sets (80% training, 20% testing)\n",
    "X_train, X_test, y_train, y_test = train_test_split(X, y, test_size=0.2, random_state=42)\n"
   ]
  },
  {
   "cell_type": "code",
   "execution_count": 20,
   "id": "0a1fdd43-ee16-45af-9f4e-a53af1ed68c8",
   "metadata": {},
   "outputs": [
    {
     "name": "stdout",
     "output_type": "stream",
     "text": [
      "F1 Score: 0.9547435467650017\n"
     ]
    }
   ],
   "source": [
    "# Evaluate the model on the test set\n",
    "y_pred = pipeline.predict(X_test)\n",
    "\n",
    "# Calculate and print the F1 score\n",
    "print(\"F1 Score:\", f1_score(y_test, y_pred))\n"
   ]
  },
  {
   "cell_type": "code",
   "execution_count": 21,
   "id": "93184779-d12b-452b-8ad7-8c806b2ad8d5",
   "metadata": {},
   "outputs": [
    {
     "name": "stdout",
     "output_type": "stream",
     "text": [
      "F1 Score (Loaded Model): 0.9547435467650017\n"
     ]
    }
   ],
   "source": [
    "# Load the saved pipeline\n",
    "loaded_pipeline = joblib.load(\"best_fraud_detection_pipeline.pkl\")\n",
    "\n",
    "# Use the loaded pipeline to make predictions\n",
    "y_pred_loaded = loaded_pipeline.predict(X_test)\n",
    "\n",
    "# Optionally, evaluate the loaded model\n",
    "print(\"F1 Score (Loaded Model):\", f1_score(y_test, y_pred_loaded))\n"
   ]
  },
  {
   "cell_type": "code",
   "execution_count": 25,
   "id": "c3e49773-d9cf-44bc-b8ff-3e8b24497133",
   "metadata": {},
   "outputs": [
    {
     "name": "stdout",
     "output_type": "stream",
     "text": [
      "\n",
      "Final model saved as 'best_fraud_detection_model.pkl'\n"
     ]
    }
   ],
   "source": [
    "# Save the best pipeline\n",
    "joblib.dump(best_model_name, 'best_fraud_detection_model.pkl')\n",
    "print(\"\\nFinal model saved as 'best_fraud_detection_model.pkl'\")\n"
   ]
  },
  {
   "cell_type": "code",
   "execution_count": 26,
   "id": "e3ae180a-56fc-4d12-ab9c-dd9c396b369c",
   "metadata": {},
   "outputs": [],
   "source": [
    "X_train.to_csv('train_X.csv', index=False)\n"
   ]
  },
  {
   "cell_type": "code",
   "execution_count": 27,
   "id": "f272b466-a5e9-4028-8a2c-7e1c124ae797",
   "metadata": {},
   "outputs": [
    {
     "name": "stdout",
     "output_type": "stream",
     "text": [
      "Sample dataset saved as 'sample_test.csv'\n"
     ]
    }
   ],
   "source": [
    "import pandas as pd\n",
    "\n",
    "# Save 10% of the training dataset as a sample\n",
    "sample_train = X_test.sample(frac=0.1, random_state=42)\n",
    "\n",
    "# Save the sample as a CSV file\n",
    "sample_train.to_csv('sample_test.csv', index=False)\n",
    "\n",
    "print(\"Sample dataset saved as 'sample_test.csv'\")\n"
   ]
  }
 ],
 "metadata": {
  "kernelspec": {
   "display_name": "Python 3 (ipykernel)",
   "language": "python",
   "name": "python3"
  },
  "language_info": {
   "codemirror_mode": {
    "name": "ipython",
    "version": 3
   },
   "file_extension": ".py",
   "mimetype": "text/x-python",
   "name": "python",
   "nbconvert_exporter": "python",
   "pygments_lexer": "ipython3",
   "version": "3.12.4"
  }
 },
 "nbformat": 4,
 "nbformat_minor": 5
}
